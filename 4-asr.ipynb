{
 "cells": [
  {
   "cell_type": "code",
   "execution_count": 1,
   "metadata": {},
   "outputs": [],
   "source": [
    "import json\n",
    "import random\n",
    "import time\n",
    "from multiprocessing import Pool\n",
    "from pathlib import Path\n",
    "\n",
    "import requests\n",
    "from tqdm import tqdm"
   ]
  },
  {
   "cell_type": "markdown",
   "metadata": {},
   "source": [
    "# run on original files"
   ]
  },
  {
   "cell_type": "code",
   "execution_count": null,
   "metadata": {},
   "outputs": [
    {
     "name": "stdout",
     "output_type": "stream",
     "text": [
      "71814\n"
     ]
    }
   ],
   "source": [
    "file_names = json.loads(Path(\"filelist.json\").read_text())\n",
    "print(len(file_names))\n",
    "random.seed(42)\n",
    "file_names = random.sample(file_names, 10_000)\n",
    "file_names = Path(\"res_out\")\n",
    "\n",
    "path_8k = Path(\"wav8k\")\n",
    "path_16k = Path(\"wav16k\")\n",
    "\n",
    "file_names_8k = [path_8k / f for f in file_names]\n",
    "file_names_16k = [path_16k / f for f in file_names]\n",
    "\n",
    "file_names_8k = sorted(file_names_8k, key=lambda f: f.stat().st_size)\n",
    "file_names_16k = sorted(file_names_16k, key=lambda f: f.stat().st_size)"
   ]
  },
  {
   "cell_type": "code",
   "execution_count": 3,
   "metadata": {},
   "outputs": [],
   "source": [
    "def run_asr(file_path):\n",
    "    try:\n",
    "        am_response = requests.get(\"http://192.168.1.106:8080/predictions/acoustic_model\", data=open(file_path, \"rb\"))\n",
    "        asr_response = requests.get(\"http://192.168.1.106:8080/predictions/asr_decoder\", data=am_response.text)\n",
    "        # am_response = requests.get(\"http://192.168.1.125:8080/predictions/acoustic_model\", data=open(file_path, \"rb\"))\n",
    "        # asr_response = requests.get(\"http://192.168.1.125:8080/predictions/asr_decoder\", data=am_response.text)\n",
    "        return file_path, asr_response.text\n",
    "    except:\n",
    "        return file_names, \"Exception occurred\""
   ]
  },
  {
   "cell_type": "code",
   "execution_count": 4,
   "metadata": {},
   "outputs": [
    {
     "data": {
      "text/plain": [
       "((PosixPath('wav8k/common_voice_en_19023347.wav'),\n",
       "  'THE PRINCE WAS NAMED AFTER SOME LAW OF ROSA THE KING OF MEDIEVAL CROSS'),\n",
       " (PosixPath('wav16k/common_voice_en_19023347.wav'),\n",
       "  'THE PRINCE WAS NAMED AFTER THOMAS LAW OF COROT THE KING OF MEDIEVAL CROSS'))"
      ]
     },
     "execution_count": 4,
     "metadata": {},
     "output_type": "execute_result"
    }
   ],
   "source": [
    "run_asr(path_8k / file_names[0]), run_asr(path_16k / file_names[0])"
   ]
  },
  {
   "cell_type": "code",
   "execution_count": 5,
   "metadata": {},
   "outputs": [],
   "source": [
    "with open(\"/tmp/tmp.json\", \"w\") as f:\n",
    "    json.dump(file_names, f)"
   ]
  },
  {
   "cell_type": "code",
   "execution_count": 6,
   "metadata": {},
   "outputs": [
    {
     "name": "stderr",
     "output_type": "stream",
     "text": [
      "100%|██████████| 10000/10000 [16:22<00:00, 10.17it/s]\n",
      "100%|██████████| 10000/10000 [16:21<00:00, 10.19it/s]\n"
     ]
    }
   ],
   "source": [
    "with Pool(20) as p:\n",
    "    results_8k = []\n",
    "    for result in tqdm(p.imap_unordered(run_asr, file_names_8k), total=len(file_names_8k)):\n",
    "        results_8k.append(result)\n",
    "    results_16k = []\n",
    "    for result in tqdm(p.imap_unordered(run_asr, file_names_16k), total=len(file_names_16k)):\n",
    "        results_16k.append(result)\n"
   ]
  },
  {
   "cell_type": "code",
   "execution_count": 7,
   "metadata": {},
   "outputs": [],
   "source": [
    "with open(\"results_8k.json\", \"w\") as f:\n",
    "    json.dump([(str(i), j) for i, j in results_8k], f, indent=4)\n",
    "with open(\"results_16k.json\", \"w\") as f:\n",
    "    json.dump([(str(i), j) for i, j in results_16k], f, indent=4)\n"
   ]
  },
  {
   "cell_type": "markdown",
   "metadata": {},
   "source": [
    "# enhance"
   ]
  },
  {
   "cell_type": "code",
   "execution_count": 8,
   "metadata": {},
   "outputs": [],
   "source": [
    "import torch\n",
    "from torch import nn\n",
    "import torch.nn.functional as F\n",
    "\n",
    "\n",
    "class ResNetBlock1D(nn.Module):\n",
    "    def __init__(self, channels, kernel_size=3, dilation=1):\n",
    "        super().__init__()\n",
    "        padding = (kernel_size - 1) // 2 * dilation\n",
    "        self.block = nn.Sequential(\n",
    "            nn.Conv1d(channels, channels, kernel_size, padding=padding, dilation=dilation),\n",
    "            nn.BatchNorm1d(channels),\n",
    "            nn.ReLU(),\n",
    "            nn.Conv1d(channels, channels, kernel_size, padding=padding, dilation=dilation),\n",
    "            nn.BatchNorm1d(channels),\n",
    "        )\n",
    "        self.activation = nn.ReLU()\n",
    "\n",
    "    def forward(self, x):\n",
    "        return self.activation(x + self.block(x))\n",
    "\n",
    "\n",
    "class AudioUNet(nn.Module):\n",
    "    def __init__(self, in_channels=1, base_channels=64, num_layers=4):\n",
    "        super().__init__()\n",
    "        self.num_layers = num_layers\n",
    "\n",
    "        # Encoder\n",
    "        self.encoders = nn.ModuleList()\n",
    "        self.downsamplers = nn.ModuleList()\n",
    "        in_ch = in_channels\n",
    "        for i in range(num_layers):\n",
    "            out_ch = base_channels * (2 ** i)\n",
    "            self.downsamplers.append(nn.Conv1d(in_ch, out_ch, kernel_size=4, stride=2, padding=1))\n",
    "            self.encoders.append(nn.Sequential(*[ResNetBlock1D(out_ch) for _ in range(3)]))\n",
    "            in_ch = out_ch\n",
    "\n",
    "        # Bottleneck\n",
    "        self.bottleneck = nn.Sequential(*[ResNetBlock1D(in_ch) for _ in range(3)])\n",
    "\n",
    "        # Decoder\n",
    "        self.upsamplers = nn.ModuleList()\n",
    "        self.decoders = nn.ModuleList()\n",
    "        for i in reversed(range(num_layers)):\n",
    "            out_ch = base_channels * (2 ** i)\n",
    "            self.upsamplers.append(\n",
    "                nn.ConvTranspose1d(in_ch, out_ch, kernel_size=4, stride=2, padding=1)\n",
    "            )\n",
    "            self.decoders.append(nn.Sequential(*[ResNetBlock1D(out_ch) for _ in range(3)]))\n",
    "            in_ch = out_ch\n",
    "\n",
    "        # Output layer\n",
    "        self.output_conv = nn.Sequential(\n",
    "            nn.ConvTranspose1d(base_channels, base_channels, kernel_size=4, stride=2, padding=1),\n",
    "            nn.Conv1d(base_channels, 1, kernel_size=1),\n",
    "        )\n",
    "        self.activation = nn.Tanh()\n",
    "\n",
    "    def forward(self, x):\n",
    "        skips = []\n",
    "\n",
    "        # Encoder path\n",
    "        for down, enc in zip(self.downsamplers, self.encoders):\n",
    "            x = down(x)\n",
    "            x = enc(x)\n",
    "            skips.append(x)\n",
    "\n",
    "        # Bottleneck\n",
    "        x = self.bottleneck(x)\n",
    "\n",
    "        # Decoder path\n",
    "        for up, dec, skip in zip(self.upsamplers, self.decoders, reversed(skips)):\n",
    "            x = up(x)\n",
    "            # In case of mismatch due to rounding in downsampling\n",
    "            if x.shape[-1] != skip.shape[-1]:\n",
    "                x = F.pad(x, (0, skip.shape[-1] - x.shape[-1]))\n",
    "            x = x + skip\n",
    "            x = dec(x)\n",
    "\n",
    "        # Output\n",
    "        return self.activation(self.output_conv(x))\n"
   ]
  },
  {
   "cell_type": "code",
   "execution_count": 9,
   "metadata": {},
   "outputs": [
    {
     "data": {
      "text/plain": [
       "<All keys matched successfully>"
      ]
     },
     "execution_count": 9,
     "metadata": {},
     "output_type": "execute_result"
    }
   ],
   "source": [
    "device = torch.device(\"cuda\", index=0)\n",
    "model = AudioUNet().to(device)\n",
    "\n",
    "model.load_state_dict(torch.load(\"model_epoch0037.pth\"))"
   ]
  },
  {
   "cell_type": "code",
   "execution_count": 10,
   "metadata": {},
   "outputs": [
    {
     "name": "stderr",
     "output_type": "stream",
     "text": [
      "100%|██████████| 10000/10000 [27:54<00:00,  5.97it/s]\n"
     ]
    }
   ],
   "source": [
    "import io\n",
    "\n",
    "import torchaudio\n",
    "\n",
    "results_enhanced = []\n",
    "for file_path in tqdm(file_names_8k):\n",
    "    x, fs = torchaudio.load(file_path)\n",
    "    x = x.to(device)\n",
    "    x = x.unsqueeze(0)\n",
    "    x = model(x)\n",
    "    x = x.squeeze(0)\n",
    "    x = x.cpu()\n",
    "    in_memory_file = io.BytesIO()\n",
    "    torchaudio.save(in_memory_file, x, fs, format=\"wav\")\n",
    "    in_memory_file.seek(0)\n",
    "    am_response = requests.get(\"http://192.168.1.106:8080/predictions/acoustic_model\", data=in_memory_file)\n",
    "    asr_response = requests.get(\"http://192.168.1.106:8080/predictions/asr_decoder\", data=am_response.text)\n",
    "    results_enhanced.append((file_path, asr_response.text))"
   ]
  },
  {
   "cell_type": "code",
   "execution_count": 11,
   "metadata": {},
   "outputs": [],
   "source": [
    "with open(\"results_enhance.json\", \"w\") as f:\n",
    "    json.dump([(str(i), j) for i, j in results_enhanced], f, indent=4)"
   ]
  },
  {
   "cell_type": "markdown",
   "metadata": {},
   "source": [
    "# load GT"
   ]
  },
  {
   "cell_type": "code",
   "execution_count": 12,
   "metadata": {},
   "outputs": [
    {
     "name": "stderr",
     "output_type": "stream",
     "text": [
      "100%|██████████| 2942080/2942080 [00:02<00:00, 1302890.06it/s]\n"
     ]
    }
   ],
   "source": [
    "agg_dataset = json.loads(Path(\"/home/aj/repo/baden_asr/train_dataset_aggregation.json\").read_text())\n",
    "mozilla_dataset = {Path(item[\"path\"]).name: item[\"sentence\"] for item in tqdm(agg_dataset) if \"common_voice_en\" in item[\"path\"]}"
   ]
  },
  {
   "cell_type": "code",
   "execution_count": 13,
   "metadata": {},
   "outputs": [
    {
     "data": {
      "text/plain": [
       "('common_voice_en_19023347.wav',\n",
       " 'THE PRINCE WAS NAMED AFTER TOMISLAV OF CROATIA THE KING OF MEDIEVAL CROATIA')"
      ]
     },
     "execution_count": 13,
     "metadata": {},
     "output_type": "execute_result"
    }
   ],
   "source": [
    "file_names[0], mozilla_dataset[file_names[0]]"
   ]
  },
  {
   "cell_type": "markdown",
   "metadata": {},
   "source": [
    "# compare the results"
   ]
  },
  {
   "cell_type": "code",
   "execution_count": 14,
   "metadata": {},
   "outputs": [],
   "source": [
    "text8k = [i for _, i in sorted(results_8k, key=lambda x: file_names.index(x[0].name))]\n",
    "text_enhanced = [i for _, i in sorted(results_enhanced, key=lambda x: file_names.index(x[0].name))]\n",
    "text16k = [i for _, i in sorted(results_16k, key=lambda x: file_names.index(x[0].name))]\n",
    "target = [mozilla_dataset[file_name] for file_name in file_names]"
   ]
  },
  {
   "cell_type": "code",
   "execution_count": 15,
   "metadata": {},
   "outputs": [
    {
     "data": {
      "text/plain": [
       "[('THE PRINCE WAS NAMED AFTER SOME LAW OF ROSA THE KING OF MEDIEVAL CROSS',\n",
       "  'THE PRINCE WAS NAMED AFTER SOME LAW OF CROSSI THE KING OF MEDIEVAL CROSSI',\n",
       "  'THE PRINCE WAS NAMED AFTER THOMAS LAW OF COROT THE KING OF MEDIEVAL CROSS',\n",
       "  'THE PRINCE WAS NAMED AFTER TOMISLAV OF CROATIA THE KING OF MEDIEVAL CROATIA'),\n",
       " ('THE THEATER IS CLOSED FOR RENOVATIONS BUT WILL REOPEN IN TWENTY NINETEEN',\n",
       "  'THE FUTURE IS CLOSED FOR RENOVATIONS BUT WERE HE TWENTY MAINTAINED',\n",
       "  'THE THEATER IS CLOSED FOR RENOVATIONS BUT WILL REOPEN IN TWENTY NINETEEN',\n",
       "  'THE THEATER IS CLOSED FOR RENOVATIONS BUT WILL REOPEN IN TWENTY NINETEEN'),\n",
       " ('DOG TRAINING BY TUG IS A TOOL USUALLY USED AS A RETRIEVED DEVELOPING SKILL',\n",
       "  'DOG TRAINING BY TUG IS A TOOL USUALLY USED AS A TRIVET DEVELOPING SKILL',\n",
       "  'DOG TRAINING BY TUG IS A TOOL USUALLY USED AS RETRIEVED DEVELOPING SKILL',\n",
       "  'DOG TRAINING BITE TUG IS A TOOL USUALLY USED AS RETRIEVE DEVELOPING SKILLS')]"
      ]
     },
     "execution_count": 15,
     "metadata": {},
     "output_type": "execute_result"
    }
   ],
   "source": [
    "list(zip(text8k[:3], text_enhanced[:3], text16k[:3], target[:3]))"
   ]
  },
  {
   "cell_type": "code",
   "execution_count": 16,
   "metadata": {},
   "outputs": [],
   "source": [
    "from torchmetrics.text import CharErrorRate, WordErrorRate\n",
    "\n",
    "cer, wer = CharErrorRate(), WordErrorRate()\n",
    "\n",
    "cer8k = cer(text8k, target)\n",
    "cerenhance = cer(text_enhanced, target)\n",
    "cer16k = cer(text16k, target)\n",
    "\n",
    "wer8k = wer(text8k, target)\n",
    "werenhance = wer(text_enhanced, target)\n",
    "wer16k = wer(text16k, target)"
   ]
  },
  {
   "cell_type": "code",
   "execution_count": 17,
   "metadata": {},
   "outputs": [
    {
     "name": "stdout",
     "output_type": "stream",
     "text": [
      "0.04698 0.08233 0.03472\n",
      "0.11839 0.17449 0.09626\n"
     ]
    }
   ],
   "source": [
    "print(round(cer8k.item(), 5), round(cerenhance.item(), 5), round(cer16k.item(), 5))\n",
    "print(round(wer8k.item(), 5), round(werenhance.item(), 5), round(wer16k.item(), 5))"
   ]
  },
  {
   "cell_type": "code",
   "execution_count": 18,
   "metadata": {},
   "outputs": [
    {
     "data": {
      "image/png": "[encoded data removed]",
      "text/plain": [
       "<Figure size 800x500 with 1 Axes>"
      ]
     },
     "metadata": {},
     "output_type": "display_data"
    }
   ],
   "source": [
    "import matplotlib.pyplot as plt\n",
    "\n",
    "# WER values\n",
    "wer_values = [wer8k.item(), werenhance.item(), wer16k.item()]\n",
    "labels = ['4k BW', 'Enhanced', '8k BW']\n",
    "\n",
    "# Plot\n",
    "plt.figure(figsize=(8, 5))\n",
    "plt.bar(labels, wer_values, color=['blue', 'green', 'orange'])\n",
    "plt.title('Word Error Rate (WER) Comparison')\n",
    "plt.ylabel('WER')\n",
    "plt.ylim(0, max(wer_values) + 0.05)\n",
    "plt.grid(axis='y', linestyle='--', alpha=0.7)\n",
    "plt.show()"
   ]
  },
  {
   "cell_type": "code",
   "execution_count": 19,
   "metadata": {},
   "outputs": [
    {
     "data": {
      "text/plain": [
       "329358"
      ]
     },
     "execution_count": 19,
     "metadata": {},
     "output_type": "execute_result"
    }
   ],
   "source": [
    "Path(\"common_voice_en_19796797.wav\").write_bytes(in_memory_file.getbuffer())"
   ]
  }
 ],
 "metadata": {
  "kernelspec": {
   "display_name": "venv",
   "language": "python",
   "name": "python3"
  },
  "language_info": {
   "codemirror_mode": {
    "name": "ipython",
    "version": 3
   },
   "file_extension": ".py",
   "mimetype": "text/x-python",
   "name": "python",
   "nbconvert_exporter": "python",
   "pygments_lexer": "ipython3",
   "version": "3.11.11"
  }
 },
 "nbformat": 4,
 "nbformat_minor": 2
}
